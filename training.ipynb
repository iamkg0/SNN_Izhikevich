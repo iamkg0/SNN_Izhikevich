{
 "cells": [
  {
   "cell_type": "code",
   "execution_count": 1,
   "metadata": {},
   "outputs": [],
   "source": [
    "from Neuron import *\n",
    "from Layers import *\n",
    "from trainers import *\n",
    "from data_preps import *\n",
    "import matplotlib.pyplot as plt\n",
    "import numpy as np\n",
    "import pandas as pd\n",
    "import os"
   ]
  },
  {
   "cell_type": "code",
   "execution_count": 2,
   "metadata": {},
   "outputs": [
    {
     "name": "stdout",
     "output_type": "stream",
     "text": [
      "Label = 7, index = 6\n"
     ]
    },
    {
     "data": {
      "text/plain": [
       "'\\nfor i in range(100):\\n    print(train_data[i][1], test_data[i][1])\\n'"
      ]
     },
     "execution_count": 2,
     "metadata": {},
     "output_type": "execute_result"
    },
    {
     "data": {
      "image/png": "[encoded data removed]",
      "text/plain": [
       "<Figure size 432x288 with 1 Axes>"
      ]
     },
     "metadata": {
      "needs_background": "light"
     },
     "output_type": "display_data"
    }
   ],
   "source": [
    "data_X, data_y = visualize_image()\n",
    "\n",
    "train_data, test_data = data_preparation(data_X, data_y)\n",
    "'''\n",
    "for i in range(100):\n",
    "    print(train_data[i][1], test_data[i][1])\n",
    "'''"
   ]
  },
  {
   "cell_type": "markdown",
   "metadata": {},
   "source": [
    "[0,1,3,6,7,8,10,11,16,21]"
   ]
  },
  {
   "cell_type": "code",
   "execution_count": 10,
   "metadata": {},
   "outputs": [],
   "source": [
    "num_epochs = 1\n",
    "pics = range(5000,10000)\n",
    "lr = .001\n",
    "alpha = 2\n",
    "g = .7\n",
    "out_layer = Output_layer(num_exc=10, learning_rate = lr, assymetry=alpha)\n",
    "in_layer = Input_layer(out_layer, num_exc=28*28, learning_rate=lr, g=g, assymetry=alpha, update_weights=True)\n",
    "in_layer.make_connections()"
   ]
  },
  {
   "cell_type": "code",
   "execution_count": 11,
   "metadata": {},
   "outputs": [],
   "source": [
    "in_layer.load_weights(filename='model_checkpoints/07_07_checkpoint_input_10kpics.csv')"
   ]
  },
  {
   "cell_type": "code",
   "execution_count": 12,
   "metadata": {},
   "outputs": [
    {
     "name": "stdout",
     "output_type": "stream",
     "text": [
      "epoch 0 completed!\n"
     ]
    }
   ],
   "source": [
    "for iter in range(num_epochs):\n",
    "    for p in pics:\n",
    "        signal = train_data[p][0] * .06\n",
    "        target = train_data[p][1]\n",
    "        two_layers_trainer(signal, in_layer,  out_layer, target, power=9, time=40)\n",
    "    print(f'epoch {iter} completed!')"
   ]
  },
  {
   "cell_type": "code",
   "execution_count": 16,
   "metadata": {},
   "outputs": [
    {
     "name": "stdout",
     "output_type": "stream",
     "text": [
      "training passed, weights saved\n"
     ]
    }
   ],
   "source": [
    "in_layer.save_weights(filename='model_checkpoints/07_08_checkpoint_input_10kpics_full.csv')\n",
    "print('training passed, weights saved')"
   ]
  },
  {
   "cell_type": "code",
   "execution_count": 14,
   "metadata": {},
   "outputs": [],
   "source": [
    "train_pics = range(1000)"
   ]
  },
  {
   "cell_type": "code",
   "execution_count": 15,
   "metadata": {},
   "outputs": [
    {
     "name": "stdout",
     "output_type": "stream",
     "text": [
      "Ground truth: [0 7 7 2 2 6 5 7 8 5 3 0 2 7 6 9 2 3 5 1 6 2 8 0 2 8 9 3 9 4 7 8 4 1 3 9 3\n",
      " 4 0 8 0 9 1 8 5 5 9 4 1 8 7 7 4 4 3 3 7 5 6 5 4 6 9 6 4 1 5 3 8 0 6 0 0 2\n",
      " 5 9 9 9 0 1 5 8 9 1 8 1 4 6 1 0 2 1 6 1 6 2 4 3 7 7 5 1 8 3 6 2 7 9 6 3 6\n",
      " 9 5 1 9 9 5 9 6 6 6 7 9 6 2 7 2 5 8 7 6 3 5 9 3 9 0 4 3 7 7 8 7 4 4 2 4 0\n",
      " 1 3 1 7 5 3 6 1 2 3 6 5 7 6 3 9 2 9 9 6 4 8 5 3 1 7 4 7 7 8 1 5 3 4 9 8 7\n",
      " 9 4 0 2 0 9 8 3 9 6 7 5 9 5 1 1 8 7 9 2 5 6 4 0 8 3 1 1 9 5 0 4 2 1 0 5 8\n",
      " 7 9 3 9 3 9 2 7 2 8 7 1 6 8 1 7 6 1 4 8 3 3 7 9 2 3 4 9 4 5 3 9 0 7 0 2 9\n",
      " 0 0 9 3 9 9 7 8 2 0 3 5 6 3 7 1 0 1 5 5 2 5 3 3 7 9 2 4 0 5 0 0 1 0 2 7 5\n",
      " 7 2 1 6 4 0 8 2 0 7 7 6 3 0 9 7 0 2 5 7 7 9 1 0 9 3 7 7 2 6 6 8 9 1 8 7 6\n",
      " 2 4 8 4 7 1 0 6 9 8 6 5 0 2 2 5 5 4 7 4 9 8 5 7 3 7 1 3 0 9 9 2 4 6 6 1 1\n",
      " 4 9 5 7 3 0 0 5 5 0 6 6 3 2 4 0 9 2 8 2 9 7 6 3 1 9 7 2 7 9 1 2 7 9 4 4 2\n",
      " 9 7 8 1 2 7 5 9 1 9 5 0 3 2 4 4 0 5 1 7 3 3 8 2 7 2 8 6 1 8 3 9 2 9 9 8 6\n",
      " 9 1 3 1 0 3 0 4 0 0 4 3 9 5 3 5 0 0 6 1 1 8 0 8 8 1 7 3 1 9 0 0 2 2 0 0 9\n",
      " 7 1 2 1 6 2 7 2 1 0 0 9 3 0 8 1 7 7 0 9 6 6 5 7 8 8 7 8 5 5 7 8 2 0 5 9 9\n",
      " 8 8 5 2 0 3 1 9 1 3 5 3 8 9 9 4 6 9 2 3 4 7 4 9 7 2 1 3 2 6 9 4 2 8 6 0 0\n",
      " 0 7 6 1 1 0 3 1 9 1 3 7 2 8 3 4 4 1 9 6 6 3 7 7 3 4 3 3 4 2 7 5 6 5 0 4 1\n",
      " 9 1 1 1 1 8 6 1 5 4 3 4 2 3 7 2 2 5 6 2 0 4 7 6 3 2 9 7 9 0 9 5 9 5 1 9 1\n",
      " 1 3 2 7 9 7 3 2 9 9 5 8 2 7 1 2 9 2 8 6 0 5 6 2 3 1 5 1 3 5 4 4 4 5 7 7 7\n",
      " 4 9 6 0 6 8 6 5 9 7 9 2 0 8 8 1 5 9 3 3 9 0 0 3 4 4 2 3 4 7 3 7 2 3 5 6 7\n",
      " 2 6 5 9 0 6 8 6 9 4 8 9 6 9 0 9 1 1 5 8 5 9 4 3 8 5 5 7 1 2 2 8 4 1 3 6 7\n",
      " 1 1 4 3 4 1 1 0 3 3 2 5 7 6 1 1 2 8 7 1 6 5 1 0 4 5 9 9 8 3 5 5 0 8 9 1 3\n",
      " 1 4 5 3 6 8 9 3 7 1 9 9 6 6 2 7 7 8 9 7 5 3 5 1 9 8 9 9 9 5 1 4 3 0 9 1 5\n",
      " 5 0 4 0 8 2 8 4 2 3 8 2 3 6 5 8 6 8 0 5 6 5 0 2 6 5 1 6 7 0 7 5 3 3 8 3 4\n",
      " 0 9 1 1 4 2 4 3 6 7 8 1 0 0 7 5 9 7 2 2 4 5 6 5 1 5 3 9 4 7 3 9 2 1 9 7 7\n",
      " 4 4 5 3 3 7 7 3 5 2 5 9 6 4 5 9 9 6 3 0 9 1 8 7 2 6 1 8 4 7 7 9 3 4 9 5 7\n",
      " 3 6 6 6 3 1 1 8 5 9 5 1 1 1 6 7 5 1 0 4 2 8 1 9 5 0 1 1 3 3 0 1 1 5 5 9 8\n",
      " 2 6 4 8 4 1 5 7 7 8 8 0 9 3 3 6 0 0 6 5 8 6 4 0 0 4 4 1 7 0 3 9 1 8 1 9 7\n",
      " 7]\n",
      "Predictions: [0 7 0 2 2 6 0 7 0 3 3 0 2 7 6 9 2 3 3 0 6 0 3 0 2 8 9 7 8 9 7 2 0 0 3 9 3\n",
      " 4 0 8 0 8 0 8 0 8 0 8 3 8 7 7 9 9 3 2 7 3 6 3 0 0 7 6 9 1 0 3 3 0 6 0 0 2\n",
      " 2 0 9 7 0 1 8 0 7 1 2 8 0 6 0 6 2 0 6 0 6 0 8 3 0 7 3 0 8 8 6 8 7 9 6 3 6\n",
      " 9 0 1 9 9 8 9 6 6 6 7 0 6 0 0 2 3 8 7 6 3 3 7 3 9 0 0 3 7 7 8 7 9 6 2 9 0\n",
      " 0 3 0 0 0 3 6 2 3 2 6 5 7 6 0 8 2 9 8 6 0 8 8 3 0 7 9 7 7 8 0 0 3 6 9 8 3\n",
      " 7 9 6 2 0 9 8 2 9 6 7 0 9 3 1 1 3 2 9 2 5 6 0 0 3 3 0 0 9 3 0 0 2 0 0 6 8\n",
      " 7 9 3 9 3 8 2 7 2 3 7 1 6 8 8 7 6 1 9 8 3 3 7 9 2 7 4 0 0 0 3 9 0 0 0 0 7\n",
      " 0 0 0 3 0 8 7 8 2 0 3 3 6 3 7 3 0 8 5 0 2 5 3 8 7 9 2 4 0 0 0 0 0 0 2 7 9\n",
      " 7 2 1 6 4 0 8 2 0 7 7 6 3 0 9 7 0 2 9 7 7 7 8 0 0 3 7 7 0 6 6 8 9 2 8 7 6\n",
      " 2 0 8 0 0 8 0 6 0 8 6 2 0 2 2 5 5 4 7 9 9 0 0 7 3 8 2 2 0 9 9 2 0 0 0 0 0\n",
      " 0 0 0 7 3 0 0 5 5 0 6 6 3 2 4 2 7 2 2 2 7 7 6 3 0 9 7 2 7 8 0 0 7 7 9 0 2\n",
      " 0 7 0 0 3 7 0 7 0 3 0 0 3 2 0 0 0 8 0 7 3 3 8 2 7 2 8 0 1 8 3 0 2 9 9 8 6\n",
      " 3 1 3 0 0 3 0 9 0 0 8 3 9 3 3 0 0 0 6 0 2 8 0 8 8 0 7 3 0 0 0 0 0 6 0 0 9\n",
      " 7 0 0 1 6 2 0 3 2 0 0 9 3 0 0 1 0 7 0 9 6 0 3 7 3 3 7 0 7 8 7 8 2 2 3 0 0\n",
      " 0 8 6 2 0 6 8 9 1 3 0 7 8 8 7 9 6 9 2 3 0 7 9 8 7 2 1 2 2 6 9 6 6 8 6 0 0\n",
      " 0 7 6 0 1 0 3 0 9 0 3 7 2 0 3 9 0 3 0 6 6 3 7 8 3 8 0 3 6 2 7 3 6 0 0 0 0\n",
      " 9 0 1 0 3 0 6 6 3 2 3 9 2 0 0 3 2 8 0 2 0 0 7 6 3 2 7 7 9 0 9 3 7 0 8 3 1\n",
      " 0 3 2 7 0 0 0 2 7 8 0 3 2 7 0 6 7 2 8 6 0 3 6 2 3 2 0 0 3 8 4 6 0 0 7 0 7\n",
      " 8 7 6 0 6 8 6 3 0 7 9 2 0 8 0 0 3 0 3 3 9 0 0 3 0 0 2 3 6 7 3 7 2 3 8 6 7\n",
      " 2 0 5 7 0 6 8 6 0 0 3 7 6 7 8 7 2 8 8 3 0 9 0 3 8 0 9 7 0 2 2 8 6 1 2 6 7\n",
      " 1 8 8 3 0 0 0 0 3 2 2 0 7 6 0 0 2 8 7 0 6 0 1 0 6 3 7 0 8 3 0 3 0 8 7 0 2\n",
      " 0 2 3 2 6 7 9 3 7 1 8 8 6 6 2 7 7 8 9 7 0 3 0 0 8 8 7 9 9 0 0 0 3 0 9 0 0\n",
      " 0 0 9 0 8 0 3 0 2 3 3 2 3 6 3 8 6 8 0 8 6 0 0 2 6 0 8 6 0 0 7 5 3 3 8 3 9\n",
      " 0 9 0 3 9 2 0 3 6 7 8 8 0 0 7 5 7 0 2 2 8 8 6 5 1 3 3 9 8 7 3 9 2 1 9 7 7\n",
      " 6 0 8 3 3 7 7 3 0 0 0 7 6 0 0 9 7 6 3 0 7 0 2 7 2 6 0 8 8 2 8 7 3 0 9 5 8\n",
      " 3 0 6 0 3 1 1 8 0 9 8 0 0 1 6 7 0 1 0 3 2 8 1 9 0 0 0 8 3 3 0 0 1 5 0 7 8\n",
      " 2 6 9 8 0 1 0 7 7 8 8 0 7 3 3 6 0 0 6 5 8 6 9 0 0 0 4 1 6 0 3 0 0 8 0 7 0\n",
      " 7]\n",
      "0.587\n"
     ]
    }
   ],
   "source": [
    "in_layer.weight_dynamics(turn_on=False)\n",
    "out_layer.drop_impulse()\n",
    "gts = []\n",
    "preds = []\n",
    "#pics = [0,1,3,6,7,8,10,11,16,21]\n",
    "for i in train_pics:\n",
    "    for j in range(30):\n",
    "        in_layer.drop_impulse()\n",
    "        in_layer.restore_variables()\n",
    "        out_layer.drop_impulse()\n",
    "        out_layer.restore_variables()\n",
    "    signal = test_data[i][0]\n",
    "    gt = test_data[i][1]\n",
    "    pred = prediction(signal, [in_layer, out_layer], duration=40, build_plots=False)\n",
    "    gts.append(gt)\n",
    "    preds.append(pred)\n",
    "gts = np.array(gts)\n",
    "preds = np.array(preds)\n",
    "print(f'Ground truth: {gts}')\n",
    "print(f'Predictions: {preds}')\n",
    "correct_samples = np.sum(preds == gts)\n",
    "accuracy = correct_samples / len(train_pics)\n",
    "print(accuracy)"
   ]
  },
  {
   "cell_type": "code",
   "execution_count": null,
   "metadata": {},
   "outputs": [],
   "source": []
  }
 ],
 "metadata": {
  "kernelspec": {
   "display_name": "Python 3.10.4 64-bit",
   "language": "python",
   "name": "python3"
  },
  "language_info": {
   "codemirror_mode": {
    "name": "ipython",
    "version": 3
   },
   "file_extension": ".py",
   "mimetype": "text/x-python",
   "name": "python",
   "nbconvert_exporter": "python",
   "pygments_lexer": "ipython3",
   "version": "3.10.4"
  },
  "orig_nbformat": 4,
  "vscode": {
   "interpreter": {
    "hash": "afb734500600fd355917ca529030176ea0ca205570884b88f2f6f7d791fd3fbe"
   }
  }
 },
 "nbformat": 4,
 "nbformat_minor": 2
}
