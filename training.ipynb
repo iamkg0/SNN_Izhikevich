{
 "cells": [
  {
   "cell_type": "code",
   "execution_count": 1,
   "metadata": {},
   "outputs": [],
   "source": [
    "from Neuron import *\n",
    "from Layers import *\n",
    "from trainers import *\n",
    "from data_preps import *\n",
    "import matplotlib.pyplot as plt\n",
    "import numpy as np\n",
    "import pandas as pd\n",
    "import os"
   ]
  },
  {
   "cell_type": "code",
   "execution_count": 2,
   "metadata": {},
   "outputs": [
    {
     "name": "stdout",
     "output_type": "stream",
     "text": [
      "Label = 7, index = 6\n"
     ]
    },
    {
     "data": {
      "image/png": "[encoded data removed]",
      "text/plain": [
       "<Figure size 432x288 with 1 Axes>"
      ]
     },
     "metadata": {
      "needs_background": "light"
     },
     "output_type": "display_data"
    }
   ],
   "source": [
    "data_X, data_y = visualize_image()\n",
    "\n",
    "train_data, test_data = data_preparation(data_X, data_y)"
   ]
  },
  {
   "cell_type": "markdown",
   "metadata": {},
   "source": [
    "[0,1,3,6,7,8,10,11,16,21]"
   ]
  },
  {
   "cell_type": "code",
   "execution_count": 18,
   "metadata": {},
   "outputs": [],
   "source": [
    "num_epochs = 2\n",
    "pics = range(1000)\n",
    "lr = .07\n",
    "alpha = 2\n",
    "g = .7\n",
    "out_layer = Output_layer(num_exc=10, learning_rate = lr, assymetry=alpha)\n",
    "in_layer = Input_layer(out_layer, num_exc=28*28, learning_rate=lr, g=g, assymetry=alpha, update_weights=True)\n",
    "in_layer.make_connections()"
   ]
  },
  {
   "cell_type": "code",
   "execution_count": 19,
   "metadata": {},
   "outputs": [],
   "source": [
    "in_layer.load_weights(filename='model_checkpoints/checkpoint_input.csv')"
   ]
  },
  {
   "cell_type": "code",
   "execution_count": 20,
   "metadata": {},
   "outputs": [
    {
     "ename": "KeyboardInterrupt",
     "evalue": "",
     "output_type": "error",
     "traceback": [
      "\u001b[1;31m---------------------------------------------------------------------------\u001b[0m",
      "\u001b[1;31mKeyboardInterrupt\u001b[0m                         Traceback (most recent call last)",
      "\u001b[1;32mc:\\Users\\User\\Desktop\\ml summer\\SNN_Izhikevich\\training.ipynb Cell 6'\u001b[0m in \u001b[0;36m<cell line: 1>\u001b[1;34m()\u001b[0m\n\u001b[0;32m      <a href='vscode-notebook-cell:/c%3A/Users/User/Desktop/ml%20summer/SNN_Izhikevich/training.ipynb#ch0000004?line=2'>3</a>\u001b[0m     signal \u001b[39m=\u001b[39m train_data[p][\u001b[39m0\u001b[39m] \u001b[39m*\u001b[39m \u001b[39m.06\u001b[39m\n\u001b[0;32m      <a href='vscode-notebook-cell:/c%3A/Users/User/Desktop/ml%20summer/SNN_Izhikevich/training.ipynb#ch0000004?line=3'>4</a>\u001b[0m     target \u001b[39m=\u001b[39m train_data[p][\u001b[39m1\u001b[39m]\n\u001b[1;32m----> <a href='vscode-notebook-cell:/c%3A/Users/User/Desktop/ml%20summer/SNN_Izhikevich/training.ipynb#ch0000004?line=4'>5</a>\u001b[0m     two_layers_trainer(signal, in_layer,  out_layer, target, power\u001b[39m=\u001b[39;49m\u001b[39m9\u001b[39;49m, time\u001b[39m=\u001b[39;49m\u001b[39m30\u001b[39;49m, recovery_time\u001b[39m=\u001b[39;49m\u001b[39m30\u001b[39;49m)\n\u001b[0;32m      <a href='vscode-notebook-cell:/c%3A/Users/User/Desktop/ml%20summer/SNN_Izhikevich/training.ipynb#ch0000004?line=5'>6</a>\u001b[0m \u001b[39mprint\u001b[39m(\u001b[39mf\u001b[39m\u001b[39m'\u001b[39m\u001b[39mepoch \u001b[39m\u001b[39m{\u001b[39;00m\u001b[39miter\u001b[39m\u001b[39m}\u001b[39;00m\u001b[39m completed!\u001b[39m\u001b[39m'\u001b[39m)\n",
      "File \u001b[1;32mc:\\Users\\User\\Desktop\\ml summer\\SNN_Izhikevich\\trainers.py:11\u001b[0m, in \u001b[0;36mtwo_layers_trainer\u001b[1;34m(signal, in_layer, out_layer, target, power, time, recovery_time)\u001b[0m\n\u001b[0;32m      9\u001b[0m in_layer\u001b[39m.\u001b[39maccept_signal(signal)\n\u001b[0;32m     10\u001b[0m \u001b[39mfor\u001b[39;00m i \u001b[39min\u001b[39;00m \u001b[39mrange\u001b[39m(\u001b[39mint\u001b[39m(time\u001b[39m/\u001b[39m\u001b[39m/\u001b[39min_layer[\u001b[39m0\u001b[39m]\u001b[39m.\u001b[39mresolution)\u001b[39m+\u001b[39m\u001b[39m1\u001b[39m):\n\u001b[1;32m---> 11\u001b[0m     in_layer\u001b[39m.\u001b[39;49mtransmit_current()\n\u001b[0;32m     12\u001b[0m     _ \u001b[39m=\u001b[39m out_layer\u001b[39m.\u001b[39msimulation(target, power)\n\u001b[0;32m     13\u001b[0m     out_layer\u001b[39m.\u001b[39mdrop_impulse()\n",
      "File \u001b[1;32mc:\\Users\\User\\Desktop\\ml summer\\SNN_Izhikevich\\Layers.py:43\u001b[0m, in \u001b[0;36mInput_layer.transmit_current\u001b[1;34m(self)\u001b[0m\n\u001b[0;32m     41\u001b[0m \u001b[39mdef\u001b[39;00m \u001b[39mtransmit_current\u001b[39m(\u001b[39mself\u001b[39m):\n\u001b[0;32m     42\u001b[0m     \u001b[39mfor\u001b[39;00m i \u001b[39min\u001b[39;00m \u001b[39mrange\u001b[39m(\u001b[39mlen\u001b[39m(\u001b[39mself\u001b[39m\u001b[39m.\u001b[39mlist_of_neurons)):\n\u001b[1;32m---> 43\u001b[0m         impulse, _ \u001b[39m=\u001b[39m \u001b[39mself\u001b[39;49m\u001b[39m.\u001b[39;49mlist_of_neurons[i]\u001b[39m.\u001b[39;49mbehave()\n\u001b[0;32m     44\u001b[0m         \u001b[39mfor\u001b[39;00m j \u001b[39min\u001b[39;00m \u001b[39mrange\u001b[39m(\u001b[39mlen\u001b[39m(\u001b[39mself\u001b[39m\u001b[39m.\u001b[39mnext_layer)):\n\u001b[0;32m     45\u001b[0m             \u001b[39mself\u001b[39m\u001b[39m.\u001b[39mnext_layer[j]\u001b[39m.\u001b[39mI \u001b[39m+\u001b[39m\u001b[39m=\u001b[39m impulse \u001b[39m*\u001b[39m \u001b[39mself\u001b[39m\u001b[39m.\u001b[39mlist_of_neurons[i]\u001b[39m.\u001b[39mconnections[j]\n",
      "File \u001b[1;32mc:\\Users\\User\\Desktop\\ml summer\\SNN_Izhikevich\\Neuron.py:136\u001b[0m, in \u001b[0;36mIzhikevichNeuron.behave\u001b[1;34m(self)\u001b[0m\n\u001b[0;32m    135\u001b[0m \u001b[39mdef\u001b[39;00m \u001b[39mbehave\u001b[39m(\u001b[39mself\u001b[39m):\n\u001b[1;32m--> 136\u001b[0m     \u001b[39mself\u001b[39;49m\u001b[39m.\u001b[39;49mdynamics()\n\u001b[0;32m    137\u001b[0m     \u001b[39mself\u001b[39m\u001b[39m.\u001b[39mSTDP()\n\u001b[0;32m    138\u001b[0m     impulse \u001b[39m=\u001b[39m \u001b[39mself\u001b[39m\u001b[39m.\u001b[39mrecovery()\n",
      "File \u001b[1;32mc:\\Users\\User\\Desktop\\ml summer\\SNN_Izhikevich\\Neuron.py:67\u001b[0m, in \u001b[0;36mIzhikevichNeuron.dynamics\u001b[1;34m(self)\u001b[0m\n\u001b[0;32m     65\u001b[0m \u001b[39mself\u001b[39m\u001b[39m.\u001b[39mu \u001b[39m+\u001b[39m\u001b[39m=\u001b[39m \u001b[39mself\u001b[39m\u001b[39m.\u001b[39mresolution\u001b[39m*\u001b[39m(\u001b[39mself\u001b[39m\u001b[39m.\u001b[39ma\u001b[39m*\u001b[39m(\u001b[39mself\u001b[39m\u001b[39m.\u001b[39mb \u001b[39m*\u001b[39m \u001b[39mself\u001b[39m\u001b[39m.\u001b[39mv \u001b[39m-\u001b[39m \u001b[39mself\u001b[39m\u001b[39m.\u001b[39mu))\n\u001b[0;32m     66\u001b[0m \u001b[39mself\u001b[39m\u001b[39m.\u001b[39mtime \u001b[39m+\u001b[39m\u001b[39m=\u001b[39m \u001b[39mself\u001b[39m\u001b[39m.\u001b[39mresolution\n\u001b[1;32m---> 67\u001b[0m \u001b[39mself\u001b[39;49m\u001b[39m.\u001b[39;49mspike_trace()\n",
      "\u001b[1;31mKeyboardInterrupt\u001b[0m: "
     ]
    }
   ],
   "source": [
    "for iter in range(num_epochs):\n",
    "    for p in pics:\n",
    "        signal = train_data[p][0] * .06\n",
    "        target = train_data[p][1]\n",
    "        two_layers_trainer(signal, in_layer,  out_layer, target, power=9, time=30, recovery_time=30)\n",
    "    print(f'epoch {iter} completed!')"
   ]
  },
  {
   "cell_type": "code",
   "execution_count": 13,
   "metadata": {},
   "outputs": [],
   "source": [
    "in_layer.save_weights()"
   ]
  },
  {
   "cell_type": "code",
   "execution_count": 22,
   "metadata": {},
   "outputs": [
    {
     "name": "stdout",
     "output_type": "stream",
     "text": [
      "Ground truth: [1 0 4 7 3 5 8 9 2 6]\n",
      "Predictions: [2 0 2 7 9 4 0 2 2 0]\n",
      "0.3\n"
     ]
    }
   ],
   "source": [
    "in_layer.weight_dynamics(turn_on=False)\n",
    "out_layer.drop_impulse()\n",
    "gts = []\n",
    "preds = []\n",
    "pics = [0,1,3,6,7,8,10,11,16,21]\n",
    "for i in pics:\n",
    "    for j in range(30):\n",
    "        in_layer.drop_impulse()\n",
    "        in_layer.transmit_current()\n",
    "        out_layer.drop_impulse()\n",
    "        _ = out_layer.simulation()\n",
    "    signal = train_data[i][0]\n",
    "    gt = train_data[i][1]\n",
    "    pred = prediction(signal, [in_layer, out_layer], duration=130, build_plots=False)\n",
    "    gts.append(gt)\n",
    "    preds.append(pred)\n",
    "gts = np.array(gts)\n",
    "preds = np.array(preds)\n",
    "print(f'Ground truth: {gts}')\n",
    "print(f'Predictions: {preds}')\n",
    "correct_samples = np.sum(preds == gts)\n",
    "accuracy = correct_samples / 10\n",
    "print(accuracy)"
   ]
  },
  {
   "cell_type": "code",
   "execution_count": null,
   "metadata": {},
   "outputs": [],
   "source": []
  }
 ],
 "metadata": {
  "kernelspec": {
   "display_name": "Python 3.10.4 64-bit",
   "language": "python",
   "name": "python3"
  },
  "language_info": {
   "codemirror_mode": {
    "name": "ipython",
    "version": 3
   },
   "file_extension": ".py",
   "mimetype": "text/x-python",
   "name": "python",
   "nbconvert_exporter": "python",
   "pygments_lexer": "ipython3",
   "version": "3.10.4"
  },
  "orig_nbformat": 4,
  "vscode": {
   "interpreter": {
    "hash": "afb734500600fd355917ca529030176ea0ca205570884b88f2f6f7d791fd3fbe"
   }
  }
 },
 "nbformat": 4,
 "nbformat_minor": 2
}
